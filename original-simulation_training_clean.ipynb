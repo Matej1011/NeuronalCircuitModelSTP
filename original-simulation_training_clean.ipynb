{
 "cells": [
  {
   "cell_type": "code",
   "execution_count": null,
   "id": "7f4e5b30",
   "metadata": {},
   "outputs": [],
   "source": [
    "# #Import the file to import parameters function. Be sure you are not re-running sims when you load here (not very efficient but it works)\n",
    "# include(\"/home/ge74coy/mnt/naspersonal/Code/PhD/training_org.jl\")\n",
    "\n",
    "# T, N_trials, stim_rate, train_start, t_weightsave, time_weightsave, \n",
    "# save_weights, save_spikes, save_weights_name, save_partial, save_all, save_weight_partial,\n",
    "# je0, jp0, js0, jv0, r_ext, SST_hebb, PV_symmetric, PV_voltage,\n",
    "# Ne, Np, Ns, Nv, Ncells, Nspikes, Npop, Nmaxmembers, \n",
    "# jee0,jpe,jse,jep0,jpp, jvp,jes0,jps,jsv,jvs,jve,\n",
    "# p_EE,p_EI,p_IE,p_II,name, stim_time , gap_time,\n",
    "# taue,taup,taus,tauv, vth_e, vth_i, vre, taurefrac, tauedecay, taupdecay, tausdecay, tauvdecay,\n",
    "# jeemin, jeemax, jepmin, jepmax, jesmin, jesmax,\n",
    "# tau_ipv,tau_isst, tau_plus, tau_minus, tau_x, tau_y, A2_minus, A2_plus, A3_minus, A3_plus, \n",
    "# eta_pv, r0_pv, a_pre, a_post, dt, dtnormalize,\n",
    "# eta_v,theta_v,alpha,tau_trace, tau_slow , used_param = parameters();"
   ]
  },
  {
   "cell_type": "markdown",
   "id": "b8115540",
   "metadata": {},
   "source": [
    "### Check simulation parameters"
   ]
  },
  {
   "cell_type": "code",
   "execution_count": null,
   "id": "0ad71d10",
   "metadata": {
    "collapsed": true
   },
   "outputs": [],
   "source": [
    "T = 800_000\n",
    "name_file = \"_all_plastic_\"\n",
    "# name_file = \"_sst_hebb_\"\n",
    "# name_file = \"_noplast_\"\n",
    "\n",
    "# both_string = \"\"\n",
    "both_string = \"both_separated_pre_\"\n",
    "\n",
    "zz = 20_070\n",
    "\n",
    "param = JLD.load(save_weights_name * \"parameters/input_parameters_\" * both_file * \"$(T)\" * name_file * \"$(zz)\" * \".jld\")\n",
    "# param = JLD.load(save_weights_name * \"parameters/produced_parameters_$(T)\" * name_file * \"$(zz)\" * \".jld\")"
   ]
  },
  {
   "cell_type": "markdown",
   "id": "217b6733",
   "metadata": {},
   "source": [
    "##### Print a series of values"
   ]
  },
  {
   "cell_type": "code",
   "execution_count": null,
   "id": "ee862ab7",
   "metadata": {
    "collapsed": true
   },
   "outputs": [],
   "source": [
    "#for static\n",
    "println(\"jpe = \", param[\"jpe\"]/0.35)\n",
    "println(\"jse = \" , param[\"jse\"]/0.35)\n",
    "println(\"jve = \" , param[\"jve\"]/0.35)\n",
    "println(\"jep0 = \" , param[\"jep0\"]/0.35)\n",
    "println(\"jpp = \" , param[\"jpp\"]/0.35)\n",
    "println(\"jvp = \" , param[\"jvp\"]/0.35)\n",
    "println(\"jps = \" , param[\"jps\"]/0.35)\n",
    "println(\"jvs = \" , param[\"jvs\"]/0.35)\n",
    "println(\"jes0 = \" , param[\"jes0\"]/0.35)\n",
    "println(\"jsv = \" , param[\"jsv\"]/0.35)\n",
    "println(\"a_post = \" , param[\"a_post\"])\n",
    "println(\"λ = \" , param[\"a_pre\"]/param[\"a_post\"])\n",
    "println(\"tau_ipv = \" , param[\"tau_ipv\"])\n",
    "println(\"tau_isst = \" , param[\"tau_isst\"])\n",
    "println(\"A3_plus = \" , param[\"A3_plus\"])\n",
    "println(\"jeemax = \" , param[\"jeemax\"])"
   ]
  },
  {
   "cell_type": "code",
   "execution_count": null,
   "id": "af5181cc",
   "metadata": {
    "collapsed": true
   },
   "outputs": [],
   "source": [
    "#for both\n",
    "println(\"jpe = \", param[\"jpe\"]/0.35)\n",
    "println(\"jse = \" , param[\"jse\"]/0.35)\n",
    "println(\"jve = \" , param[\"jve\"]/0.35)\n",
    "println(\"jep0 = \" , param[\"jep0\"]/0.35)\n",
    "println(\"jpp = \" , param[\"jpp\"]/0.35)\n",
    "println(\"jvp = \" , param[\"jvp\"]/0.35)\n",
    "println(\"jps = \" , param[\"jps\"]/0.35)\n",
    "println(\"jvs = \" , param[\"jvs\"]/0.35)\n",
    "println(\"jes0 = \" , param[\"jes0\"]/0.35)\n",
    "println(\"jsv = \" , param[\"jsv\"]/0.35)\n",
    "println(\"a_post_strong = \" , param[\"a_post_strong\"])\n",
    "println(\"a_pre_strong = \" , param[\"a_pre_strong\"])\n",
    "println(\"a_post_weak = \" , param[\"a_post_weak\"])\n",
    "println(\"a_pre_weak = \" , param[\"a_pre_weak\"])\n",
    "# println(\"λ = \" , param[\"a_pre\"]/param[\"a_post\"])\n",
    "println(\"tau_ipv = \" , param[\"tau_ipv\"])\n",
    "println(\"tau_isst = \" , param[\"tau_isst\"])\n",
    "println(\"A3_plus = \" , param[\"A3_plus\"])"
   ]
  },
  {
   "cell_type": "markdown",
   "id": "b9f4e1cc",
   "metadata": {},
   "source": [
    "##### Compare two different sets of dictionaries (to compare different simulations)"
   ]
  },
  {
   "cell_type": "code",
   "execution_count": null,
   "id": "20e65d7b",
   "metadata": {},
   "outputs": [],
   "source": [
    "dict1 = param1\n",
    "dict2 = param2\n",
    "\n",
    "for (key, value) in dict1\n",
    "    if haskey(dict2, key) && dict2[key] == value\n",
    "#         println(\"Values for key $key match: $value\")\n",
    "    else\n",
    "        println(\"Values for key \\\"$key\\\" do not match\")\n",
    "        println(\"Dict1: $key = \",dict1[key])\n",
    "        println(\"Dict2: $key = \",dict2[key])\n",
    "        println()\n",
    "    end\n",
    "end\n"
   ]
  },
  {
   "cell_type": "markdown",
   "id": "f02a6adc",
   "metadata": {},
   "source": [
    "### Loading single simulation\n",
    "You can change $name\\_file$, $zz$ to move between simulations.\n",
    "It will generate the entire spiking activity of the network in a BitMatrix format. It will also generate a more compact version that helps for visualization"
   ]
  },
  {
   "cell_type": "code",
   "execution_count": null,
   "id": "d87c6568",
   "metadata": {},
   "outputs": [],
   "source": [
    "#helpers\n",
    "function spiketime_to_spikeraster(spikes,sizex,sizey)\n",
    "    spik = spikes'\n",
    "    spik_act = falses(sizex,Int(sizey/0.1))\n",
    "    for j=1:size(spik)[2]\n",
    "        for i=1:size(spik)[1]\n",
    "            temp = round(spik[i,j],digits=2)\n",
    "            if temp != 0\n",
    "                spik_act[j,Int(round(temp/0.1))] = true\n",
    "            else\n",
    "                break\n",
    "            end\n",
    "        end\n",
    "    end\n",
    "    return spik_act\n",
    "end\n",
    "function visualise_raster(spiking_activity, divid = 4)\n",
    "    spike_shrank = falses(size(spiking_activity)[1],ceil(Int,(size(spiking_activity)[2]/divid)))\n",
    "    for (z,i) = enumerate(1:divid:size(spiking_activity)[2])\n",
    "        spike_shrank[:,z] = spiking_activity[:,i]\n",
    "    end\n",
    "    spike_shrank\n",
    "end"
   ]
  },
  {
   "cell_type": "code",
   "execution_count": null,
   "id": "5dc74fbd",
   "metadata": {},
   "outputs": [],
   "source": [
    "T = 800_000\n",
    "name_file = \"_sst_hebb_static_\"\n",
    "# name_file = \"_sst_hebb_\"\n",
    "# name_file = \"_all_plastic_\"\n",
    "# name_file = \"_noplast_\"\n",
    "zz = 10_050\n",
    "\n",
    "both_string = \"\"\n",
    "# both_string = \"both_separated_pre_\"\n",
    "\n",
    "spikes = Matrix(JLD.load(save_weights_name * \"spikes_\" * both_string * \"$(T)\" * name_file * \"$(zz)\" * \".jld\")[\"spikes\"])\n",
    "# spikes = Matrix(JLD.load(save_weights_name * \"spikes_both_separated_$(T)\" * name_file * \"$(zz)\" * \".jld\")[\"spikes\"])\n",
    "\n",
    "spiking_activity = spiketime_to_spikeraster(spikes,Ncells,T);\n",
    "\n",
    "spike_shrank = visualise_raster(spiking_activity);"
   ]
  },
  {
   "cell_type": "markdown",
   "id": "99b1e9f2",
   "metadata": {},
   "source": [
    "#### Plot a single frame of the simulation with fancy resolution (not needed)\n",
    "You can adjust the starting and ending point\n",
    "\n",
    "!!! Computationally expensive, use the file 'raster_plotting.jl'"
   ]
  },
  {
   "cell_type": "code",
   "execution_count": null,
   "id": "3971bf67",
   "metadata": {},
   "outputs": [],
   "source": [
    "# using Plots, Measures\n",
    "# gr()  # Set GR as the plotting backend\n",
    "\n",
    "# # Function to map neuron IDs to colors based on hexadecimal codes\n",
    "# function map_neuron_id_to_color_hex(neuron_id)\n",
    "#     if neuron_id <= Ne\n",
    "# #         return \"#000000\"  # Black in hexadecimal\n",
    "#         return \"#004999ff\"  \n",
    "#     elseif neuron_id > Ne && neuron_id <= Ne + Np\n",
    "#         return \"#9a003aff\"  # Red in hexadecimal\n",
    "#     elseif neuron_id > Ne + Np && neuron_id <= Ne + Np + Ns\n",
    "#         return \"#00976dff\"  # Green in hexadecimal\n",
    "#     else\n",
    "#         return \"#ffb565ff\"  # Orange in hexadecimal\n",
    "#     end\n",
    "# end\n",
    "\n",
    "# function plot_raster(bitmatrix::BitMatrix,save_path::String)\n",
    "#     p = plot(\n",
    "#         xlabel = \"Time\",\n",
    "#         ylabel = \"Neuron ID\",\n",
    "#         title = \"Raster Plot\",\n",
    "#         legend = false,\n",
    "#         xlims = (1, size(bitmatrix, 2)),  # Set x-axis limits\n",
    "#         ylims = (1, size(bitmatrix, 1) + 1),  # Set y-axis limits to include one more ID for lines\n",
    "#         size = (1000, 750),  # Set the size of the plot (width, height) in pixels\n",
    "#         rightmargin=20Measures.mm\n",
    "#     )\n",
    "\n",
    "#     for neuron in 1:size(bitmatrix, 1)\n",
    "#         spikes = findall(bitmatrix[neuron, :])\n",
    "#         for spike in spikes\n",
    "#             plot!(\n",
    "#                 [spike, spike],\n",
    "#                 [neuron, neuron + 1],\n",
    "#                 color = map_neuron_id_to_color_hex(neuron),  # Using hexadecimal color codes\n",
    "#                 lw = 2,\n",
    "#             )\n",
    "#         end\n",
    "#     end\n",
    "\n",
    "# #     display(p)\n",
    "#     savefig(p, save_path * \".png\")  # Save the plot to the specified file path\n",
    "#     savefig(p, save_path * \".svg\")\n",
    "# end\n",
    "\n",
    "# # Example spiking data as a bitmatrix (replace this with your own data)\n",
    "# st = 150_000\n",
    "# en = st + 25_000\n",
    "# bitmatrix = spike_shrank[:,st:en]\n",
    "\n",
    "# location_name=\"/home/ge74coy/mnt/nasgroup/labmembers/fabioveneto/paper_plots/\"\n",
    "# plot_raster(bitmatrix,location_name * \"raster_training_phase_$(zz)$(name)$(st)\")\n",
    "# # plot_raster(bitmatrix,location_name * \"raster_metastable_phase_$(zz)$(name)$(st)_short\")\n"
   ]
  },
  {
   "cell_type": "code",
   "execution_count": null,
   "id": "3fad742b",
   "metadata": {
    "collapsed": true
   },
   "outputs": [],
   "source": [
    "#quick way to plot. it plots 1s\n",
    "using Measures\n",
    "location_name=\"/home/ge74coy/mnt/naspersonal/Code/\"\n",
    "st = 7_300_000\n",
    "en = st + 10_000\n",
    "gr(size=(1000,750),legend = false)\n",
    "spy(spiking_activity[:,st:en],axis=nothing,xlabel=\"time\",ylabel=\"Exc. neurons\",left_margin=20mm,yguidefontsize=13,xguidefontsize=13)\n",
    "#savefig(location_name * \"raster$(name)$(st).png\")"
   ]
  },
  {
   "cell_type": "code",
   "execution_count": null,
   "id": "b99ee7b2",
   "metadata": {
    "collapsed": true
   },
   "outputs": [],
   "source": [
    "#quick way to plot. it plots 4s\n",
    "using Measures\n",
    "location_name=\"/home/ge74coy/mnt/nasgroup/labmembers/fabioveneto/poster/\"\n",
    "st = 1_620_000\n",
    "# st=30_000\n",
    "en = st + 10_000\n",
    "gr(size=(1000,750),legend = false)\n",
    "# gr(size=(10*400, 7.5*400))\n",
    "spy(spike_shrank[:,st:en],axis=nothing,yguidefontsize=18,xguidefontsize=18)\n",
    "hline!([4000,4500])\n",
    "# hline!([1500])\n",
    "# xticks!([en-st],[\"4s\"])\n",
    "# savefig(location_name * \"raster$(name)$(st).png\")\n",
    "# savefig(location_name * \"raster$(name)$(st).svg\")"
   ]
  },
  {
   "cell_type": "markdown",
   "id": "122c942d",
   "metadata": {},
   "source": [
    "### Weights analysis (you might need something similar when you will use the short term plasticity)\n",
    "Plot weights from a single simulation"
   ]
  },
  {
   "cell_type": "code",
   "execution_count": null,
   "id": "f93a8b1a",
   "metadata": {},
   "outputs": [],
   "source": [
    "zz = 20_050\n",
    "# name = \"_sst_hebb_\"\n",
    "name = \"_sst_hebb_static_\"\n",
    "T = 800_000\n",
    "# name = \"_all_plastic_\"\n",
    "# name = \"_noplast_\"\n",
    "\n",
    "both_string = \"\"\n",
    "# both_string = \"both_separated_pre_\"\n",
    "\n",
    "weights = JLD.load(save_weights_name * \"weights_\" * both_string * \"$(T)\" * name * \"$(zz)\" * \".jld\");\n",
    "# weight_time_i = Matrix(weights[\"500000\"]);"
   ]
  },
  {
   "cell_type": "markdown",
   "id": "f767962c",
   "metadata": {},
   "source": [
    "Save single element in new dictionary"
   ]
  },
  {
   "cell_type": "code",
   "execution_count": null,
   "id": "9a6c23ac",
   "metadata": {},
   "outputs": [],
   "source": [
    "single_weight = Dict{String, SparseMatrixCSC{Float64, Int64}}()\n",
    "single_weight[\"660000\"] = weights[\"660000\"]\n",
    "single_weight[\"1\"] = weights[\"1\"]\n",
    "JLD.save(save_weights_name * \"weights_\" * both_string * \"single_$(T)\" * name * \"$(zz)\" * \".jld\",single_weight)"
   ]
  },
  {
   "cell_type": "markdown",
   "id": "b2b8ae3b",
   "metadata": {},
   "source": [
    "Move to Python (if needed)"
   ]
  },
  {
   "cell_type": "code",
   "execution_count": null,
   "id": "9f07e71d",
   "metadata": {},
   "outputs": [],
   "source": [
    "using JSON\n",
    "\n",
    "# Serialize and save to a file\n",
    "json_str = JSON.json(Matrix(weights[\"660000\"]))\n",
    "open(save_weights_name * \"weights$(name)$(zz).json\", \"w\") do file\n",
    "    write(file, json_str)\n",
    "end"
   ]
  },
  {
   "cell_type": "code",
   "execution_count": null,
   "id": "41187ffb",
   "metadata": {},
   "outputs": [],
   "source": []
  },
  {
   "cell_type": "code",
   "execution_count": null,
   "id": "e2591743",
   "metadata": {},
   "outputs": [],
   "source": [
    "#Calculate some averages\n",
    "keys_dict = collect(keys(weights));\n",
    "elem = sort!(parse.(Int64,keys_dict))\n",
    "sorted_keys = [string(elem[i]) for i = 1:size(keys_dict)[1]];\n",
    "\n",
    "average_weight_exc_new_retrained = zeros(size(sorted_keys)[1])\n",
    "average_weight_exc_old_retrained = zeros(size(sorted_keys)[1])\n",
    "average_weight_exc_only_excited_assem = zeros(size(sorted_keys)[1])\n",
    "average_weight_exc_not_excited_assem = zeros(size(sorted_keys)[1])\n",
    "average_weight_exc_not_in_assem = zeros(size(sorted_keys)[1])\n",
    "average_weight_inh_pv_e = zeros(size(sorted_keys)[1])\n",
    "average_weight_inh_sst_e = zeros(size(sorted_keys)[1])\n",
    "#=\n",
    "max_E_E = 0\n",
    "max_PV_E = 0\n",
    "max_SST_E = 0\n",
    "min_E_E = Inf\n",
    "min_PV_E = Inf\n",
    "min_SST_E = Inf\n",
    "=#\n",
    "\n",
    "\n",
    "for (j,i) in enumerate(sorted_keys)\n",
    "    weight_time_i = Matrix(weights[i])\n",
    "    #=\n",
    "    max_E_E = max(maximum(weight_time_i[1:Ne,1:Ne]), max_E_E)\n",
    "    max_PV_E = max(maximum(weight_time_i[Ne+1:Ne+Np,1:Ne]),max_PV_E)\n",
    "    max_SST_E = max(maximum(weight_time_i[Ne+Np+1:Ne+Np+Ns,1:Ne]),max_SST_E)\n",
    "    min_E_E = min(minimum(nonzeros(weights[i][1:Ne,1:Ne])), min_E_E)\n",
    "    min_PV_E = min(minimum(nonzeros(weights[i][Ne+1:Ne+Np,1:Ne])),min_PV_E)\n",
    "    min_SST_E = min(minimum(nonzeros(weights[i][Ne+Np+1:Ne+Np+Ns,1:Ne])),min_SST_E)\n",
    "    =#\n",
    "\n",
    "    average_weight_exc_only_excited_assem[j] = mean(weight_time_i[1+Nmaxmembers:Nmaxmembers*2,1+Nmaxmembers:2*Nmaxmembers])\n",
    "    average_weight_exc_not_excited_assem[j] = mean(weight_time_i[1:Nmaxmembers,Nmaxmembers:Ne])\n",
    "    average_weight_exc_not_in_assem[j] = mean(weight_time_i[Ne-1000+1:Ne,Ne-1000+1:Ne])\n",
    "    average_weight_inh_pv_e[j] = mean(weight_time_i[Ne+1:Ne+Np,1:Ne])\n",
    "    average_weight_inh_sst_e[j] = mean(weight_time_i[Ne+Np+1:Ne+Np+Ns,1:Ne])\n",
    "end"
   ]
  },
  {
   "cell_type": "code",
   "execution_count": null,
   "id": "0c41909e",
   "metadata": {},
   "outputs": [],
   "source": [
    "average_weight_exc_intra1 = zeros(size(sorted_keys)[1],Npop)\n",
    "for (j,i) in enumerate(sorted_keys)\n",
    "    weight_time_i = Matrix(weights[i])\n",
    "    for o=1:Npop\n",
    "        average_weight_exc_intra1[j,o] = mean(weight_time_i[1+(o-1)*Nmaxmembers:Nmaxmembers*o,1+(o-1)*Nmaxmembers:Nmaxmembers*o])\n",
    "    end\n",
    "end"
   ]
  },
  {
   "cell_type": "code",
   "execution_count": null,
   "id": "55045e61",
   "metadata": {},
   "outputs": [],
   "source": [
    "average_weight_exc_intra1"
   ]
  },
  {
   "cell_type": "code",
   "execution_count": null,
   "id": "bd4f2f81",
   "metadata": {},
   "outputs": [],
   "source": [
    "location_name=\"/home/ge74coy/mnt/nasgroup/labmembers/fabioveneto/paper_plots/\"\n",
    "color_given = RGBA(0/255,73/255,153/255,1)\n",
    "T_mod = train_start*10\n",
    "T_offf = 550_000\n",
    "T_weightget = 660_000\n",
    "t_weightsavee = t_weightsave\n",
    "p = plot(grid=false,ylim=(0,5.1),size=(900,350))\n",
    "for o=1:Npop\n",
    "    plot!(average_weight_exc_intra1[:,o] .*10,legend=false,color=color_given)\n",
    "#     plot!(average_weight_exc_intra2[:,o] .*10,legend=false,color=\"red\")\n",
    "#     vline!([Int(T_mod/t_weightsavee)+1],label=nothing)\n",
    "    vline!([Int(10_000/t_weightsavee)+1],label=nothing,color=\"black\",alpha=1)\n",
    "    vline!([Int(T_offf/t_weightsavee)+1],label=nothing,color=\"black\")\n",
    "    vline!([Int(T_weightget/t_weightsavee)+1],label=nothing,color=\"black\")\n",
    "#     xticks!([Int(T_offf/t_weightsavee)+1,Int(T_weightget/t_weightsavee)+1],[\"Bottomup start\",\"Bottomup end\"])\n",
    "end\n",
    "# savefig(location_name * \"weight_evolution_wintra$(name)$(zz).svg\")\n",
    "display(p)"
   ]
  },
  {
   "cell_type": "markdown",
   "id": "984576a4",
   "metadata": {},
   "source": [
    "### These histograms plot are done in Python"
   ]
  },
  {
   "cell_type": "code",
   "execution_count": null,
   "id": "0ea7de4d",
   "metadata": {},
   "outputs": [],
   "source": [
    "# function remove_zeros(matrix::Array{T,2}) where T\n",
    "#     return matrix[matrix .!= 0]\n",
    "# end\n",
    "\n",
    "# # Example usage:\n",
    "# # PVE = remove_zeros(Matrix(weights[\"660000\"])[4001:4500, 2:4000])\n"
   ]
  },
  {
   "cell_type": "code",
   "execution_count": null,
   "id": "b337e642",
   "metadata": {
    "collapsed": true,
    "jupyter": {
     "outputs_hidden": true
    }
   },
   "outputs": [],
   "source": [
    "# PVE = remove_zeros(Matrix(weights[\"660000\"])[4001:4500,1:4000])\n",
    "# SSTE = remove_zeros(Matrix(weights[\"660000\"])[4501:4750,1:4000])\n",
    "# EE = remove_zeros(Matrix(weights[\"660000\"])[1:4000,1:4000])"
   ]
  },
  {
   "cell_type": "code",
   "execution_count": null,
   "id": "8135c52e",
   "metadata": {
    "collapsed": true
   },
   "outputs": [],
   "source": [
    "# # histogram(PVE,yaxis=(:log10, (10, 1e5)), xscale=:identity,bins=50)\n",
    "# histogram(PVE, bins=50, label=\"PVE\", alpha=1,norm=true)"
   ]
  },
  {
   "cell_type": "code",
   "execution_count": null,
   "id": "24692ea1",
   "metadata": {},
   "outputs": [],
   "source": [
    "# # histogram(SSTE,yaxis=(:log10, (10, 1e5)), xscale=:identity,bins=50)\n",
    "# histogram(SSTE, bins=50, label=\"SSTE\", alpha=1,norm=true)"
   ]
  },
  {
   "cell_type": "code",
   "execution_count": null,
   "id": "9d768a91",
   "metadata": {},
   "outputs": [],
   "source": [
    "# # histogram(EE,yaxis=(:log10, (10, 1e5)), xscale=:identity,bins=50)\n",
    "# histogram(EE, bins=50, label=\"EE\", alpha=1,norm=true)"
   ]
  },
  {
   "cell_type": "markdown",
   "id": "154427a9",
   "metadata": {},
   "source": [
    "##### Plot all weights "
   ]
  },
  {
   "cell_type": "code",
   "execution_count": null,
   "id": "15473530",
   "metadata": {
    "collapsed": true
   },
   "outputs": [],
   "source": [
    "using Measures\n",
    "location_name=\"/home/ge74coy/mnt/naspersonal/Code/\"\n",
    "\n",
    "timee = size(average_weight_exc_not_excited_assem,1)\n",
    "p_EE = 0.1\n",
    "\n",
    "T_mod = train_start\n",
    "T_offf = 370_000\n",
    "t_weightsavee = t_weightsave\n",
    "\n",
    "lb = minimum(average_weight_exc_only_excited_assem.*(1/p_EE)); ub = maximum(average_weight_exc_only_excited_assem.*(1/p_EE))\n",
    "ticks = round.(range(lb,stop=ub,length = 4),digits=2)\n",
    "p3 = (plot(collect(1:timee), average_weight_exc_only_excited_assem.*(1/p_EE), xlabel = \"time\", ylabel = L\"W^{intra}\",legend=:bottomright,xguidefontsize=12,yguidefontsize=18,label=nothing,yticks=ticks))\n",
    "vline!([Int(T_mod/t_weightsavee)+1],label=nothing)\n",
    "vline!([Int(T_offf/t_weightsavee)+1],label=nothing)\n",
    "xticks!([Int(T_mod/t_weightsavee)+1,Int(T_offf/t_weightsavee)+1],[\"Bottomup start\",\"Bottomup end\"])\n",
    "lb = minimum(average_weight_exc_not_excited_assem.*(1/p_EE)); ub = maximum(average_weight_exc_not_excited_assem.*(1/p_EE))\n",
    "ticks = round.(range(lb,stop=ub,length = 4),digits=2)\n",
    "p4 = (plot(collect(1:timee), average_weight_exc_not_excited_assem.*(1/p_EE),xlabel = \"time\", ylabel = L\"W^{inter}\",legend=:bottomright,xguidefontsize=12,yguidefontsize=18,label=nothing,yticks=ticks))\n",
    "vline!([Int(T_mod/t_weightsavee)+1],label=nothing)\n",
    "vline!([Int(T_offf/t_weightsavee)+1],label=nothing)\n",
    "xticks!([Int(T_mod/t_weightsavee)+1,Int(T_offf/t_weightsavee)+1],[\"Bottomup start\",\"Bottomup end\"])\n",
    "lb = minimum(average_weight_exc_not_in_assem.*(1/p_EE)); ub = maximum(average_weight_exc_not_in_assem.*(1/p_EE))\n",
    "ticks = round.(range(lb,stop=ub,length = 4),digits=2)\n",
    "p5 = (plot(collect(1:timee), average_weight_exc_not_in_assem.*(1/p_EE),xlabel = \"time\", ylabel = L\"W^{background}\", legend=:bottomright,xguidefontsize=12,yguidefontsize=18,label=nothing,yticks=ticks))\n",
    "vline!([Int(T_mod/t_weightsavee)+1],label=nothing)\n",
    "vline!([Int(T_offf/t_weightsavee)+1],label=nothing)\n",
    "xticks!([Int(T_mod/t_weightsavee)+1,Int(T_offf/t_weightsavee)+1],[\"Bottomup start\",\"Bottomup end\"])\n",
    "lb = minimum(average_weight_inh_pv_e.*(1/p_EE)); ub = maximum(average_weight_inh_pv_e.*(1/p_EE))\n",
    "ticks = round.(range(lb,stop=ub,length = 4),digits=2)\n",
    "p6 = (plot(collect(1:timee), average_weight_inh_pv_e.*(1/p_EE), xlabel = \"time\", ylabel = L\"W^{PV->E}\",legend=:bottomright,xguidefontsize=12,yguidefontsize=18,label=nothing,yticks=ticks))\n",
    "vline!([Int(T_mod/t_weightsavee)+1],label=nothing)\n",
    "vline!([Int(T_offf/t_weightsavee)+1],label=nothing)\n",
    "xticks!([Int(T_mod/t_weightsavee)+1,Int(T_offf/t_weightsavee)+1],[\"Bottomup start\",\"Bottomup end\"])\n",
    "lb = minimum(average_weight_inh_sst_e.*(1/p_EE)); ub = maximum(average_weight_inh_sst_e.*(1/p_EE))\n",
    "ticks = round.(range(lb,stop=ub,length = 4),digits=2)\n",
    "p7 = (plot(collect(1:timee), average_weight_inh_sst_e.*(1/p_EE), xlabel = \"time\", ylabel = L\"W^{SST->E}\",legend=:bottomright,xguidefontsize=12,yguidefontsize=18,label=nothing,yticks=ticks))\n",
    "vline!([Int(T_mod/t_weightsavee)+1],label=nothing)\n",
    "vline!([Int(T_offf/t_weightsavee)+1],label=nothing)\n",
    "xticks!([Int(T_mod/t_weightsavee)+1,Int(T_offf/t_weightsavee)+1],[\"Bottomup start\",\"Bottomup end\"])\n",
    "\n",
    "fig = plot(p3,p4,p5,p6,p7,size=(900,1050),layout=@layout[a;b;c;d;e;f;g],left_margin=20mm,yguidefontsize=13,xguidefontsize=13)\n",
    "\n",
    "# savefig(location_name * \"weight_evolution_complete$(name)$(zz).png\")"
   ]
  },
  {
   "cell_type": "markdown",
   "id": "ac889548",
   "metadata": {},
   "source": [
    "## Extra stuff (not sure it works)"
   ]
  },
  {
   "cell_type": "markdown",
   "id": "1628115e",
   "metadata": {},
   "source": [
    "##### Animation of a single assembly"
   ]
  },
  {
   "cell_type": "code",
   "execution_count": null,
   "id": "34122a2a",
   "metadata": {},
   "outputs": [],
   "source": [
    "location_name=\"/home/ge74coy/mnt/naspersonal/Code/\"\n",
    "#matrix_time = [1,500_000]\n",
    "\n",
    "keys_dict = collect(keys(weights));\n",
    "matrix_time = sort!(parse.(Int64,keys_dict))\n",
    "\n",
    "anim = @animate for i in matrix_time[1:2:end]\n",
    "    weightsss = Matrix(weights[\"$(i)\"])\n",
    "    spy(sparse(weightsss[1:Nmaxmembers,1:Nmaxmembers]), seriescolor = cgrad(:plasma, rev=true),title=\"t=$(i)\",xlabel=\"Post-synaptic E neuron\",ylabel=\"Pre-synaptic E neuron\",colorbar_title=L\"W_{EE} [mV]\")\n",
    "end\n",
    "gif(anim,location_name * \"matrix_graphically_struct_single_ass$(name)$(zz).gif\",fps=2);"
   ]
  },
  {
   "cell_type": "markdown",
   "id": "ed258723",
   "metadata": {},
   "source": [
    "##### Animation of a double assembly"
   ]
  },
  {
   "cell_type": "code",
   "execution_count": null,
   "id": "a11f40bb",
   "metadata": {},
   "outputs": [],
   "source": [
    "location_name=\"/home/ge74coy/mnt/naspersonal/Code/\"\n",
    "#matrix_time = [1,500_000]\n",
    "\n",
    "keys_dict = collect(keys(weights));\n",
    "matrix_time = sort!(parse.(Int64,keys_dict))\n",
    "\n",
    "anim = @animate for i in matrix_time[1:2:end]\n",
    "    weightsss = Matrix(weights[\"$(i)\"])\n",
    "    spy(sparse(weightsss[1:2*Nmaxmembers,1:2*Nmaxmembers]), seriescolor = cgrad(:plasma, rev=true),title=\"t=$(i)\",xlabel=\"Post-synaptic E neuron\",ylabel=\"Pre-synaptic E neuron\",colorbar_title=L\"W_{EE} [mV]\")\n",
    "end\n",
    "gif(anim,location_name * \"matrix_graphically_struct_double_ass$(name)$(zz).gif\",fps=2);"
   ]
  }
 ],
 "metadata": {
  "@webio": {
   "lastCommId": null,
   "lastKernelId": null
  },
  "kernelspec": {
   "display_name": "Julia 1.8.1",
   "language": "julia",
   "name": "julia-1.8"
  },
  "language_info": {
   "file_extension": ".jl",
   "mimetype": "application/julia",
   "name": "julia",
   "version": "1.8.1"
  }
 },
 "nbformat": 4,
 "nbformat_minor": 5
}
